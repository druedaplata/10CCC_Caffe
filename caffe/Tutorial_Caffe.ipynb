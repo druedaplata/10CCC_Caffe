{
 "cells": [
  {
   "cell_type": "markdown",
   "metadata": {
    "slideshow": {
     "slide_type": "slide"
    }
   },
   "source": [
    "#Tutorial Caffe + Digits \n",
    "\n",
    "##TODO: Preparar título, nombres, logos...etc\n",
    "\n"
   ]
  },
  {
   "cell_type": "markdown",
   "metadata": {
    "slideshow": {
     "slide_type": "subslide"
    }
   },
   "source": [
    "#Deep Learning with Caffe\n",
    "\n",
    "Framework desarrollado en la Universidad de Berkeley usando C++ y CUDA, cuenta con interfaces de uso en Python, Matlab y Linea de Comandos. \n",
    "\n",
    "\n",
    "Caffe permite crear una arquitectura de red de manera sencilla, definir hiperparámetros para el entrenamiento y cuenta con una gran cantidad de capas predefinidas, modelos entrenados para realizar clasificación de imagenes.\n",
    "\n",
    "Caffe: https://github.com/BVLC/caffe"
   ]
  },
  {
   "cell_type": "markdown",
   "metadata": {
    "collapsed": true,
    "slideshow": {
     "slide_type": "fragment"
    }
   },
   "source": [
    "<iframe src=\"http://demo.caffe.berkeleyvision.org/\" width=800 height=800></iframe>"
   ]
  },
  {
   "cell_type": "markdown",
   "metadata": {
    "slideshow": {
     "slide_type": "slide"
    }
   },
   "source": [
    "##Clasificación de Imágenes con Caffe\n",
    "\n",
    "\n",
    "\n",
    "<img src=\"imagenes/mylenet.png\">\n",
    "\n",
    "\n",
    "\n",
    "_Instruccions detalladas para el entrenamiento en Caffe en el siguiente [enlace](http://nbviewer.ipython.org/urls/bitbucket.org/sandiego206/datasets-training/raw/d0c609170f5afaf1881ced95363a21b74dbf5367/Instrucciones.ipynb)_"
   ]
  },
  {
   "cell_type": "markdown",
   "metadata": {
    "slideshow": {
     "slide_type": "subslide"
    }
   },
   "source": [
    "##1.1 Preprocesamiento de Imágenes\n",
    "\n",
    "* Es recomendable tener una gran cantidad de datos en el dataset, en este punto es posible aumentarlos realizando un preprocesamiento en la capa de datos en Caffe, por defecto este incluye:\n",
    "\n",
    "    - Mirroring\n",
    "    - Random crop\n",
    "    - Mean substraction\n",
    "    - Scaling"
   ]
  },
  {
   "cell_type": "markdown",
   "metadata": {
    "slideshow": {
     "slide_type": "subslide"
    }
   },
   "source": [
    "##1.2 Balanceo de Clases\n",
    "\n",
    "* Para evitar resultados falsamente optimistas es recomendable tener un balanceo de clases que permita a la red neuronal aprender de todos los datos de entrenamiento.\n",
    "\n",
    "<img src=\"imagenes/caltech101.png\" width=600 height=300>"
   ]
  },
  {
   "cell_type": "markdown",
   "metadata": {
    "slideshow": {
     "slide_type": "subslide"
    }
   },
   "source": [
    "##1.3 Preparar el dataset\n",
    "\n",
    "La primera capa de la red neuronal en Caffe, permite leer los datos en diferentes formatos.\n",
    "\n",
    "* __Image_Data__: Requiere un csv con el path de cada imagen y la clasificación de estas.<br>\n",
    "<br>\n",
    "\n",
    "* __LMDB__:&nbsp;&nbsp;&nbsp;&nbsp;&nbsp;&nbsp;&nbsp;&nbsp;&nbsp;&nbsp; Recomendado para datasets de __gran__ tamaño otorga mejor rendimiento I/O, los mismos requisitos que Image_Data.<br>\n",
    "<br>\n",
    "\n",
    "* __Window__: &nbsp;&nbsp;&nbsp;&nbsp;&nbsp;&nbsp;&nbsp;Lee ventanas en la imagen, usado para detección de objetos."
   ]
  },
  {
   "cell_type": "markdown",
   "metadata": {
    "slideshow": {
     "slide_type": "subslide"
    }
   },
   "source": [
    "##1.4 Data Layer\n",
    "\n",
    "---\n",
    "\n",
    "``` python\n",
    "    name: \"CaltechNet\"\n",
    "    layer {\n",
    "      name: \"data\" \n",
    "      type: DATA\n",
    "      top: \"data\"\n",
    "      top: \"label\"\n",
    "      data_param {\n",
    "        source: \"/bigdata/drueda/datasets_lmdb/caltech_train_lmdb\"\n",
    "        backend: LMDB\n",
    "        batch_size: 16\n",
    "      }\n",
    "      transform_param {\n",
    "        crop_size: 227\n",
    "        mean_file: \"/bigdata/drueda/datasets_lmdb/caltech_mean.binaryproto\"\n",
    "        mirror: True\n",
    "        }\n",
    "      include: { phase: TRAIN }\n",
    "    }\n",
    "```\n",
    "\n",
    "---"
   ]
  },
  {
   "cell_type": "markdown",
   "metadata": {
    "slideshow": {
     "slide_type": "slide"
    }
   },
   "source": [
    "##2.1 Convolutional Layer\n",
    "---\n",
    "<img src=\"imagenes/convolution.gif\" width=400 height=400 align=left>\n",
    "\n",
    "\n",
    "<img src=\"imagenes/convolution_text.png\" align=center>\n"
   ]
  },
  {
   "cell_type": "markdown",
   "metadata": {
    "slideshow": {
     "slide_type": "subslide"
    }
   },
   "source": [
    "##2.2 Activation Layer\n",
    "\n",
    "<img src=\"imagenes/relu.png\"  align=left>\n",
    "<img src=\"imagenes/relu_text.png\" align=center>"
   ]
  },
  {
   "cell_type": "markdown",
   "metadata": {
    "slideshow": {
     "slide_type": "subslide"
    }
   },
   "source": [
    "##2.3 Pooling Layer\n",
    "---\n",
    "\n",
    "<img src=\"imagenes/pooling.gif\" width=50% align=left >\n",
    "<img src=\"imagenes/pooling_text.png\" align=center >"
   ]
  },
  {
   "cell_type": "markdown",
   "metadata": {
    "collapsed": true,
    "slideshow": {
     "slide_type": "subslide"
    }
   },
   "source": [
    "##2.4 Fully Connected Layer\n",
    "\n",
    "<img src=\"imagenes/fully_connected.gif\" align=left >\n",
    "\n",
    "<img src=\"imagenes/fully_connected_text.png\" align=center >"
   ]
  },
  {
   "cell_type": "markdown",
   "metadata": {
    "slideshow": {
     "slide_type": "subslide"
    }
   },
   "source": [
    "##2.5 Solver Prototxt\n",
    "\n",
    "En este archivo definimos los parámetros globales que rigen el entrenamiento de la red neuronal.\n",
    "\n",
    "``` python\n",
    "test_iter: 8 # Especifica cuantos pases adelante la prueba hará\n",
    "test_interval: 29 # Iteraciones para una validación del entrenamiento\n",
    "base_lr: 0.001 # Tasa de aprendizaje\n",
    "display: 3 # Iteraciones para mostrar información de la función de costo (loss)\n",
    "max_iter: 2900 # Número máximo de iteraciones\n",
    "lr_policy: \"step\" # Política de disminución de la tasa de aprendizaje\n",
    "gamma: 0.1 # Valor en que disminuimos base_lr\n",
    "\n",
    "# Momentum y Weight decay de la red neuronal\n",
    "momentum: 0.9 \n",
    "weight_decay: 0.0005\n",
    "\n",
    "stepsize: 957 # Número de iteraciones necesarias para disminuir la tasa de aprendizaje.\n",
    "snapshot: 29 # Número de iteraciones en que tomaremos una \"foto\" del estado de la red.\n",
    "snapshot_prefix: \"snapshot\" # Sufijo de la \"foto\" a la red neuronal\n",
    "\n",
    "#Modo de ejecución CPU/GPU\n",
    "solver_mode: GPU\n",
    "\n",
    "# Nombre de la red que entrenaremos en formato prototxt\n",
    "net: \"train_val.prototxt\"\n",
    "# Modo de evaluación (Stochastic Gradient Descent)\n",
    "solver_type: SGD\n",
    "\n",
    "#Opcional, semilla para iniciar los randómicos\n",
    "random_seed: 64\n",
    "\n",
    "```\n"
   ]
  },
  {
   "cell_type": "markdown",
   "metadata": {
    "collapsed": true,
    "slideshow": {
     "slide_type": "subslide"
    }
   },
   "source": [
    "##Iniciar un entrenamiento con Caffe\n",
    "\n",
    "``` bash\n",
    "\n",
    "./{CAFFE_PATH}/build/tools/caffe train --solver=solver.prototxt\n",
    "\n",
    "```\n",
    "\n",
    "##Reanudar un entrenamiento\n",
    "\n",
    "``` bash\n",
    "\n",
    "./{CAFFE_PATH}/build/tools/caffe train --solver=solver.prototxt \\\n",
    "    --snapshot=snapshot_train_iter_10000.solverstate\n",
    "\n",
    "```\n",
    "\n",
    "#Finetuning\n",
    "\n",
    "``` bash\n",
    "\n",
    "./{CAFFE_PATH}/build/tools/caffe train --solver solver.prototxt \\\n",
    "    --weights bvlc_reference_caffenet.caffemodel\n",
    "\n",
    "```"
   ]
  },
  {
   "cell_type": "markdown",
   "metadata": {
    "slideshow": {
     "slide_type": "slide"
    }
   },
   "source": [
    "#Digits\n",
    "\n",
    "Digits: https://github.com/NVIDIA/DIGITS/blob/master/docs/InstallCaffe.md"
   ]
  },
  {
   "cell_type": "code",
   "execution_count": null,
   "metadata": {
    "collapsed": true
   },
   "outputs": [],
   "source": []
  }
 ],
 "metadata": {
  "celltoolbar": "Slideshow",
  "kernelspec": {
   "display_name": "Python 2",
   "language": "python",
   "name": "python2"
  },
  "language_info": {
   "codemirror_mode": {
    "name": "ipython",
    "version": 2
   },
   "file_extension": ".py",
   "mimetype": "text/x-python",
   "name": "python",
   "nbconvert_exporter": "python",
   "pygments_lexer": "ipython2",
   "version": "2.7.10"
  }
 },
 "nbformat": 4,
 "nbformat_minor": 0
}
