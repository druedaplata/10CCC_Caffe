{
 "cells": [
  {
   "cell_type": "markdown",
   "metadata": {
    "slideshow": {
     "slide_type": "slide"
    }
   },
   "source": [
    "#Tutorial Caffe + Digits \n",
    "\n",
    "##TODO: Preparar título, nombres, logos...etc\n",
    "\n"
   ]
  },
  {
   "cell_type": "markdown",
   "metadata": {
    "slideshow": {
     "slide_type": "subslide"
    }
   },
   "source": [
    "#Deep Learning with Caffe\n",
    "\n",
    "Framework desarrollado en la Universidad de Berkeley usando C++ y CUDA, cuenta con interfaces de uso en Python, Matlab y Linea de Comandos. \n",
    "\n",
    "\n",
    "Caffe permite crear una arquitectura de red de manera sencilla, definir hiperparámetros para el entrenamiento y cuenta con una gran cantidad de capas predefinidas, modelos entrenados para realizar clasificación de imagenes."
   ]
  },
  {
   "cell_type": "markdown",
   "metadata": {
    "collapsed": true,
    "slideshow": {
     "slide_type": "fragment"
    }
   },
   "source": [
    "<iframe src=\"http://demo.caffe.berkeleyvision.org/\" width=800 height=800></iframe>"
   ]
  },
  {
   "cell_type": "markdown",
   "metadata": {
    "slideshow": {
     "slide_type": "slide"
    }
   },
   "source": [
    "##Clasificación de Imágenes con Caffe\n",
    "\n",
    "_Instruccions detalladas para el entrenamiento en Caffe en el siguiente [enlace](http://nbviewer.ipython.org/urls/bitbucket.org/sandiego206/datasets-training/raw/d0c609170f5afaf1881ced95363a21b74dbf5367/Instrucciones.ipynb)_"
   ]
  },
  {
   "cell_type": "markdown",
   "metadata": {
    "slideshow": {
     "slide_type": "subslide"
    }
   },
   "source": [
    "##1. Preparar el dataset\n",
    "\n",
    "La primera capa de la red neuronal en Caffe, permite leer los datos en diferentes formatos."
   ]
  },
  {
   "cell_type": "markdown",
   "metadata": {
    "slideshow": {
     "slide_type": "fragment"
    }
   },
   "source": [
    "* __Image_Data__: Requiere un csv con el path de cada imagen y la clasificación de estas.<br>\n",
    "<br>"
   ]
  },
  {
   "cell_type": "markdown",
   "metadata": {
    "slideshow": {
     "slide_type": "fragment"
    }
   },
   "source": [
    "* __LMDB__:&nbsp;&nbsp;&nbsp;&nbsp;&nbsp;&nbsp;&nbsp;&nbsp;&nbsp;&nbsp; Recomendado para datasets de __gran__ tamaño otorga mejor rendimiento I/O, los mismos requisitos que Image_Data.<br>\n",
    "<br>"
   ]
  },
  {
   "cell_type": "markdown",
   "metadata": {
    "slideshow": {
     "slide_type": "fragment"
    }
   },
   "source": [
    "* __Window__: &nbsp;&nbsp;&nbsp;&nbsp;&nbsp;&nbsp;&nbsp;Lee ventanas en la imagen, usado para detección de objetos."
   ]
  },
  {
   "cell_type": "markdown",
   "metadata": {
    "slideshow": {
     "slide_type": "subslide"
    }
   },
   "source": [
    "##1.1 Aumento de datos y Balanceo de clases\n",
    "\n",
    "* Es recomendable tener una gran cantidad de datos en el dataset, en este punto es posible aumentarlos realizando un preprocesamiento en la capa de datos en Caffe, por defecto este incluye:\n",
    "\n",
    "    - Mirroring\n",
    "    - Random crop\n",
    "    - Mean substraction\n",
    "    - Scaling\n",
    "    \n",
    "* Para evitar resultados falsamente optimistas es necesario tener un balanceo de clases que permita a la red neuronal aprender de todos los datos de entrenamiento.\n",
    "\n",
    "![Alt text](http://localhost:8888/imagenes/caltech101.png)"
   ]
  },
  {
   "cell_type": "code",
   "execution_count": null,
   "metadata": {
    "collapsed": true
   },
   "outputs": [],
   "source": []
  },
  {
   "cell_type": "code",
   "execution_count": null,
   "metadata": {
    "collapsed": true
   },
   "outputs": [],
   "source": []
  },
  {
   "cell_type": "markdown",
   "metadata": {
    "collapsed": true,
    "slideshow": {
     "slide_type": "slide"
    }
   },
   "source": [
    "##Qué es Deep Learning?\n",
    "\n",
    "El término _deep learning_ refiere a algoritmos en machine learning que tienen múltiples capas y pueden aprender características de los datos automáticamente [1], las cuales representan objetos en niveles de abstracción mayor.\n",
    "\n",
    "![Alt text](http://devblogs.nvidia.com/parallelforall/wp-content/uploads/sites/3/2014/09/nn_example-624x218.png)\n",
    "\n",
    "Aunque los ingredientes básicos de los algoritmos usados en deep learning (gradiente descendiente, redes neuronales) han sido desarrollados hace algún tiempo, actualmente han aumentado su popularidad por varias razones, incluyendo los avances en poder computacional, reducción de costos del hardware, y avances en la investigación de machine learning. \n",
    "\n",
    "Los algoritmos de Deep learning pueden ser categorizados por su arquitectura (feed-forward, feed-back, o bi-directional) y en los protocolos de entrenamiento (supervisado, híbrido o no-supervisado) [2]."
   ]
  },
  {
   "cell_type": "code",
   "execution_count": null,
   "metadata": {
    "collapsed": true
   },
   "outputs": [],
   "source": []
  },
  {
   "cell_type": "code",
   "execution_count": null,
   "metadata": {
    "collapsed": true
   },
   "outputs": [],
   "source": []
  }
 ],
 "metadata": {
  "celltoolbar": "Slideshow",
  "kernelspec": {
   "display_name": "Python 2",
   "language": "python",
   "name": "python2"
  },
  "language_info": {
   "codemirror_mode": {
    "name": "ipython",
    "version": 2
   },
   "file_extension": ".py",
   "mimetype": "text/x-python",
   "name": "python",
   "nbconvert_exporter": "python",
   "pygments_lexer": "ipython2",
   "version": "2.7.10"
  }
 },
 "nbformat": 4,
 "nbformat_minor": 0
}
