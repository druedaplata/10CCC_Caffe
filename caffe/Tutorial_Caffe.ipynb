{
 "cells": [
  {
   "cell_type": "markdown",
   "metadata": {
    "slideshow": {
     "slide_type": "slide"
    }
   },
   "source": [
    "#Tutorial Caffe + Digits \n",
    "\n",
    "##TODO: Preparar título, nombres, logos...etc\n",
    "\n"
   ]
  },
  {
   "cell_type": "markdown",
   "metadata": {
    "slideshow": {
     "slide_type": "subslide"
    }
   },
   "source": [
    "#Deep Learning with Caffe\n",
    "\n",
    "Framework desarrollado en la Universidad de Berkeley usando C++ y CUDA, cuenta con interfaces de uso en Python, Matlab y Linea de Comandos. \n",
    "\n",
    "\n",
    "Caffe permite crear una arquitectura de red de manera sencilla, definir hiperparámetros para el entrenamiento y cuenta con una gran cantidad de capas predefinidas, modelos entrenados para realizar clasificación de imagenes."
   ]
  },
  {
   "cell_type": "markdown",
   "metadata": {
    "collapsed": true,
    "slideshow": {
     "slide_type": "fragment"
    }
   },
   "source": [
    "<iframe src=\"http://demo.caffe.berkeleyvision.org/\" width=800 height=800></iframe>"
   ]
  },
  {
   "cell_type": "markdown",
   "metadata": {
    "slideshow": {
     "slide_type": "slide"
    }
   },
   "source": [
    "##Clasificación de Imágenes con Caffe\n",
    "\n",
    "_Instruccions detalladas para el entrenamiento en Caffe en el siguiente [enlace](http://nbviewer.ipython.org/urls/bitbucket.org/sandiego206/datasets-training/raw/d0c609170f5afaf1881ced95363a21b74dbf5367/Instrucciones.ipynb)_"
   ]
  },
  {
   "cell_type": "markdown",
   "metadata": {
    "slideshow": {
     "slide_type": "subslide"
    }
   },
   "source": [
    "##1.1 Preprocesamiento de Imágenes\n",
    "\n",
    "* Es recomendable tener una gran cantidad de datos en el dataset, en este punto es posible aumentarlos realizando un preprocesamiento en la capa de datos en Caffe, por defecto este incluye:\n",
    "\n",
    "    - Mirroring\n",
    "    - Random crop\n",
    "    - Mean substraction\n",
    "    - Scaling"
   ]
  },
  {
   "cell_type": "markdown",
   "metadata": {
    "slideshow": {
     "slide_type": "subslide"
    }
   },
   "source": [
    "##1.2 Balanceo de Clases\n",
    "\n",
    "* Para evitar resultados falsamente optimistas es necesario tener un balanceo de clases que permita a la red neuronal aprender de todos los datos de entrenamiento.\n",
    "\n",
    "<img src=\"https://bytebucket.org/sandiego206/10ccc_caffe/raw/85591ad9385aa204fc5673b6bc1dcc35906e2a72/caffe/imagenes/caltech101.png\" width=600 height=300>"
   ]
  },
  {
   "cell_type": "markdown",
   "metadata": {
    "slideshow": {
     "slide_type": "subslide"
    }
   },
   "source": [
    "##1.3 Preparar el dataset\n",
    "\n",
    "La primera capa de la red neuronal en Caffe, permite leer los datos en diferentes formatos.\n",
    "\n",
    "* __Image_Data__: Requiere un csv con el path de cada imagen y la clasificación de estas.<br>\n",
    "<br>\n",
    "\n",
    "* __LMDB__:&nbsp;&nbsp;&nbsp;&nbsp;&nbsp;&nbsp;&nbsp;&nbsp;&nbsp;&nbsp; Recomendado para datasets de __gran__ tamaño otorga mejor rendimiento I/O, los mismos requisitos que Image_Data.<br>\n",
    "<br>\n",
    "\n",
    "* __Window__: &nbsp;&nbsp;&nbsp;&nbsp;&nbsp;&nbsp;&nbsp;Lee ventanas en la imagen, usado para detección de objetos."
   ]
  },
  {
   "cell_type": "markdown",
   "metadata": {
    "slideshow": {
     "slide_type": "subslide"
    }
   },
   "source": [
    "##Archivo prototxt - Data Layer\n",
    "\n",
    "---\n",
    "\n",
    "``` python\n",
    "    name: \"CaltechNet\"\n",
    "    layer {\n",
    "      name: \"data\" \n",
    "      type: DATA\n",
    "      top: \"data\"\n",
    "      top: \"label\"\n",
    "      data_param {\n",
    "        source: \"/bigdata/drueda/datasets_lmdb/caltech_train_lmdb\"\n",
    "        backend: LMDB\n",
    "        batch_size: 16\n",
    "      }\n",
    "      transform_param {\n",
    "        crop_size: 227\n",
    "        mean_file: \"/bigdata/drueda/datasets_lmdb/caltech_mean.binaryproto\"\n",
    "        mirror: True\n",
    "        scale: 0.00390625\n",
    "        }\n",
    "      include: { phase: TRAIN }\n",
    "    }\n",
    "```\n",
    "\n",
    "---"
   ]
  },
  {
   "cell_type": "markdown",
   "metadata": {
    "slideshow": {
     "slide_type": "slide"
    }
   },
   "source": [
    "##2.1 Convolutional Layer\n",
    "\n",
    "Image('http://python.org/images/python-logo.gif')"
   ]
  }
 ],
 "metadata": {
  "celltoolbar": "Slideshow",
  "kernelspec": {
   "display_name": "Python 2",
   "language": "python",
   "name": "python2"
  },
  "language_info": {
   "codemirror_mode": {
    "name": "ipython",
    "version": 2
   },
   "file_extension": ".py",
   "mimetype": "text/x-python",
   "name": "python",
   "nbconvert_exporter": "python",
   "pygments_lexer": "ipython2",
   "version": "2.7.10"
  }
 },
 "nbformat": 4,
 "nbformat_minor": 0
}
